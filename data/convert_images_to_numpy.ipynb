{
 "cells": [
  {
   "cell_type": "code",
   "execution_count": 1,
   "metadata": {
    "collapsed": true
   },
   "outputs": [],
   "source": [
    "\"\"\"\n",
    "\n",
    "\"\"\""
   ]
  },
  {
   "cell_type": "code",
   "execution_count": null,
   "metadata": {
    "collapsed": true
   },
   "outputs": [],
   "source": [
    "import numpy as np\n",
    "from matplotlib.backends.backend_pdf import PdfPages\n",
    "import sys \n",
    "sys.path.append(\"../tools/\")\n",
    "from preprocess import * \n",
    "import pandas as pd"
   ]
  },
  {
   "cell_type": "code",
   "execution_count": 2,
   "metadata": {},
   "outputs": [],
   "source": [
    "# Read CSV file with filenames, genres, etc.\n",
    "info = pd.read_csv(\"train_info.csv\")\n",
    "imagelist, imagelist_wo = ListImages('\\train_0')\n",
    "train_info = info.loc[info['filename'].isin(imagelist_wo)]"
   ]
  },
  {
   "cell_type": "code",
   "execution_count": null,
   "metadata": {},
   "outputs": [],
   "source": [
    "#save X without augmentation \n",
    "X = CreateDesignVector(imagelist)\n",
    "#unflag this to store images to numpy \n",
    "#np.save('X_256.dat', X)"
   ]
  },
  {
   "cell_type": "code",
   "execution_count": null,
   "metadata": {
    "collapsed": true
   },
   "outputs": [],
   "source": [
    "#save Y without augmentation \n",
    "sorterIndex = dict(zip(imagelist_wo,range(len(imagelist_wo))))\n",
    "train_info['filename_rank'] = train_info['filename'].map(sorterIndex)\n",
    "train_info = train_info.sort_values(['filename_rank'], ascending = [True])\n",
    "Y = train_info['genre'].values\n",
    "#np.save('Y_genre.dat', X)"
   ]
  },
  {
   "cell_type": "code",
   "execution_count": null,
   "metadata": {
    "collapsed": true
   },
   "outputs": [],
   "source": [
    "Y = Y.astype(str)\n",
    "Y, num_classes, dictY = label_class_to_Integer(Y)"
   ]
  },
  {
   "cell_type": "code",
   "execution_count": null,
   "metadata": {
    "collapsed": true
   },
   "outputs": [],
   "source": [
    "#split data \n",
    "percentage = 0.8\n",
    "ntrain = len(X)\n",
    "X_train = X[:ntrain]\n",
    "Y_train = Y[:ntrain]\n",
    "X_valid = X[ntrain:]\n",
    "Y_valid = Y[ntrain:]"
   ]
  },
  {
   "cell_type": "code",
   "execution_count": null,
   "metadata": {},
   "outputs": [],
   "source": [
    "Y"
   ]
  },
  {
   "cell_type": "code",
   "execution_count": null,
   "metadata": {
    "collapsed": true
   },
   "outputs": [],
   "source": []
  },
  {
   "cell_type": "code",
   "execution_count": null,
   "metadata": {
    "collapsed": true
   },
   "outputs": [],
   "source": []
  },
  {
   "cell_type": "code",
   "execution_count": null,
   "metadata": {},
   "outputs": [],
   "source": [
    "#We have X and Y, now we do augmentation because the dataset is imbalanced\n",
    "#For now we simply copy the data without any transformation \n",
    "#lets try 1000 first \n",
    "#ONLY Augment training data not the validation/test! \n",
    "XX = getFrequency_and_augment(X_train, Y_train, num_classes, 1000)\n",
    "#now need to shuffle the data \n",
    "np.random.shuffle(XX)\n",
    "\n",
    "\n",
    "#save training data with augmentation\n",
    "np.save('X_256_augment_train', XX[:, :-1])\n",
    "np.save('Y_genre_augment_train', XX[:, -1])\n",
    "\n",
    "np.save('X_256_validation', X_valid)\n",
    "np.save('Y_genre_validation', Y_valid)"
   ]
  },
  {
   "cell_type": "code",
   "execution_count": null,
   "metadata": {
    "collapsed": true
   },
   "outputs": [],
   "source": []
  }
 ],
 "metadata": {
  "kernelspec": {
   "display_name": "Python 3",
   "language": "python",
   "name": "python3"
  },
  "language_info": {
   "codemirror_mode": {
    "name": "ipython",
    "version": 3
   },
   "file_extension": ".py",
   "mimetype": "text/x-python",
   "name": "python",
   "nbconvert_exporter": "python",
   "pygments_lexer": "ipython3",
   "version": "3.6.1"
  }
 },
 "nbformat": 4,
 "nbformat_minor": 2
}
