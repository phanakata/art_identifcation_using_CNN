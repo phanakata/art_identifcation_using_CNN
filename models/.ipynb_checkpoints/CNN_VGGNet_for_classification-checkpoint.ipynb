{
 "cells": [
  {
   "cell_type": "code",
   "execution_count": null,
   "metadata": {
    "collapsed": true
   },
   "outputs": [],
   "source": [
    "\"\"\"\n",
    "A notebook to explore data and perform CNN using TensorFlow\n",
    "\"\"\""
   ]
  },
  {
   "cell_type": "code",
   "execution_count": 1,
   "metadata": {
    "collapsed": true
   },
   "outputs": [],
   "source": [
    "from __future__ import division, print_function, absolute_import\n",
    "import tensorflow as tf\n",
    "import numpy as np \n",
    "import sys\n",
    "sys.path.append(\"../tools/\")\n",
    "from preprocess import * \n",
    "from analysis import *\n",
    "sys.path.append(\"../data/\")\n",
    "import pandas as pd\n",
    "import matplotlib.pyplot as plt\n",
    "from sklearn.metrics import confusion_matrix\n"
   ]
  },
  {
   "cell_type": "markdown",
   "metadata": {},
   "source": [
    "## Load data "
   ]
  },
  {
   "cell_type": "code",
   "execution_count": 2,
   "metadata": {
    "collapsed": true
   },
   "outputs": [],
   "source": [
    "\"\"\"\n",
    "X: numpy (number_data, width*height*3)\n",
    "Y: numpy (number_data, class)\n",
    "NOTE: we are loading the ENTIRE raw datasets without any augmentation/labeling \n",
    "\"\"\"\n",
    "\n",
    "X= np.load('../data/X_256.dat.npy')\n",
    "Y= np.load('../data/Y_genre.dat.npy')\n",
    "Y = Y.astype(str)"
   ]
  },
  {
   "cell_type": "markdown",
   "metadata": {},
   "source": [
    "## Check data shape "
   ]
  },
  {
   "cell_type": "code",
   "execution_count": 3,
   "metadata": {},
   "outputs": [
    {
     "name": "stdout",
     "output_type": "stream",
     "text": [
      "X and Y shape: (79433, 196608) (79433,)\n",
      "[[ 66  40   7 ... 168 137  60]\n",
      " [ 84  85  79 ...  84  85  82]]\n",
      "['portrait' 'religious painting']\n"
     ]
    }
   ],
   "source": [
    "print (\"X and Y shape:\", X.shape, Y.shape)\n",
    "print(X[0:2])\n",
    "print(Y[0:2])"
   ]
  },
  {
   "cell_type": "markdown",
   "metadata": {},
   "source": [
    "## Label classes \n",
    "Map class to integer (e.g. 'potrait' to '0')"
   ]
  },
  {
   "cell_type": "code",
   "execution_count": 4,
   "metadata": {},
   "outputs": [
    {
     "name": "stdout",
     "output_type": "stream",
     "text": [
      "Number of classes: 43\n",
      "Dictionary: {'abstract': 0, 'advertisement': 1, 'allegorical painting': 2, 'animal painting': 3, 'battle painting': 4, 'bijinga': 5, 'bird-and-flower painting': 6, 'calligraphy': 7, 'capriccio': 8, 'caricature': 9, 'cityscape': 10, 'cloudscape': 11, 'design': 12, 'figurative': 13, 'flower painting': 14, 'genre painting': 15, 'history painting': 16, 'illustration': 17, 'interior': 18, 'landscape': 19, 'literary painting': 20, 'marina': 21, 'miniature': 22, 'mythological painting': 23, 'nan': 24, 'nude painting (nu)': 25, 'panorama': 26, 'pastorale': 27, 'portrait': 28, 'poster': 29, 'quadratura': 30, 'religious painting': 31, 'self-portrait': 32, 'shan shui': 33, 'sketch and study': 34, 'still life': 35, 'symbolic painting': 36, 'tessellation': 37, 'urushi-e': 38, 'vanitas': 39, 'veduta': 40, 'wildlife painting': 41, 'yakusha-e': 42}\n"
     ]
    }
   ],
   "source": [
    "Y = Y.astype(str)\n",
    "Y, num_classes, dictY= label_class_to_Integer(Y)\n",
    "print (\"Number of classes:\", num_classes)\n",
    "print (\"Dictionary:\", dictY)"
   ]
  },
  {
   "cell_type": "markdown",
   "metadata": {},
   "source": [
    "## Check histogram"
   ]
  },
  {
   "cell_type": "code",
   "execution_count": 5,
   "metadata": {},
   "outputs": [
    {
     "data": {
      "text/plain": [
       "(array([7.2010e+03, 6.6000e+01, 8.0900e+02, 1.2330e+03, 2.7300e+02,\n",
       "        8.5000e+01, 1.0000e+02, 1.2200e+02, 1.7900e+02, 1.7600e+02,\n",
       "        4.0890e+03, 1.5400e+02, 1.5770e+03, 1.7820e+03, 1.2700e+03,\n",
       "        1.0984e+04, 6.5600e+02, 2.4930e+03, 5.1100e+02, 1.1548e+04,\n",
       "        4.1800e+02, 1.3850e+03, 1.0200e+02, 1.4930e+03, 8.9300e+02,\n",
       "        1.7580e+03, 1.5000e+01, 9.9000e+01, 1.2926e+04, 2.2900e+02,\n",
       "        1.7000e+01, 5.7030e+03, 1.1990e+03, 2.8000e+01, 2.7780e+03,\n",
       "        2.4640e+03, 1.9590e+03, 1.4800e+02, 1.0000e+00, 2.6000e+01,\n",
       "        1.5800e+02, 2.5900e+02, 6.7000e+01]),\n",
       " array([ 0.        ,  0.97674419,  1.95348837,  2.93023256,  3.90697674,\n",
       "         4.88372093,  5.86046512,  6.8372093 ,  7.81395349,  8.79069767,\n",
       "         9.76744186, 10.74418605, 11.72093023, 12.69767442, 13.6744186 ,\n",
       "        14.65116279, 15.62790698, 16.60465116, 17.58139535, 18.55813953,\n",
       "        19.53488372, 20.51162791, 21.48837209, 22.46511628, 23.44186047,\n",
       "        24.41860465, 25.39534884, 26.37209302, 27.34883721, 28.3255814 ,\n",
       "        29.30232558, 30.27906977, 31.25581395, 32.23255814, 33.20930233,\n",
       "        34.18604651, 35.1627907 , 36.13953488, 37.11627907, 38.09302326,\n",
       "        39.06976744, 40.04651163, 41.02325581, 42.        ]),\n",
       " <a list of 43 Patch objects>)"
      ]
     },
     "execution_count": 5,
     "metadata": {},
     "output_type": "execute_result"
    },
    {
     "data": {
      "image/png": "[encoded data removed]",
      "text/plain": [
       "<matplotlib.figure.Figure at 0x2b8d478252b0>"
      ]
     },
     "metadata": {},
     "output_type": "display_data"
    }
   ],
   "source": [
    "#check histogram of Y\n",
    "plt.hist(Y, num_classes)"
   ]
  },
  {
   "cell_type": "code",
   "execution_count": 6,
   "metadata": {
    "collapsed": true
   },
   "outputs": [],
   "source": [
    "#make sure we have the right data type for TensorFlow \n",
    "X = np.array(X)\n",
    "X = X.astype('float32')\n",
    "Y = np.array(Y)\n",
    "Y = Y.astype(int)"
   ]
  },
  {
   "cell_type": "markdown",
   "metadata": {},
   "source": [
    "## Split data to training and validation "
   ]
  },
  {
   "cell_type": "code",
   "execution_count": 10,
   "metadata": {
    "collapsed": true
   },
   "outputs": [],
   "source": [
    "percentage = 0.8 #80% for training and 20% for test \n",
    "ntrain = int(len(X)*percentage)\n",
    "X_valid  = X[ntrain:]\n",
    "Y_valid = Y[ntrain:]\n",
    "X_train = X[0:ntrain]\n",
    "Y_train = Y[0:ntrain]"
   ]
  },
  {
   "cell_type": "markdown",
   "metadata": {},
   "source": [
    "## Set traninig and CNN parameters "
   ]
  },
  {
   "cell_type": "code",
   "execution_count": 11,
   "metadata": {},
   "outputs": [
    {
     "name": "stdout",
     "output_type": "stream",
     "text": [
      "12700 10\n"
     ]
    }
   ],
   "source": [
    "# Training Parameters\n",
    "learning_rate = 0.0001\n",
    "batch_size = 50 #128\n",
    "num_epochs = 10\n",
    "num_steps = len(X_train)//batch_size * num_epochs\n",
    "print (num_steps, num_epochs)\n",
    "\n",
    "# Network Parameters\n",
    "num_input = 256*256*3 \n",
    "num_classes = num_classes #change this if needed \n",
    "dropout = 0.5 # Dropout, probability to drop a unit"
   ]
  },
  {
   "cell_type": "markdown",
   "metadata": {},
   "source": [
    "## CNN model "
   ]
  },
  {
   "cell_type": "code",
   "execution_count": 12,
   "metadata": {
    "collapsed": true
   },
   "outputs": [],
   "source": [
    "# Create the neural network\n",
    "#We use an architecture similar to VGGNet 16 with L2\n",
    "def conv_net(x_dict, n_classes, dropout, reuse, is_training):\n",
    "    \n",
    "    # Define a scope for reusing the variables\n",
    "    with tf.variable_scope('ConvNet', reuse=reuse):\n",
    "        x = x_dict['images']\n",
    "\n",
    "       \n",
    "        # Reshape Image to 4-D Tensor input [Batch Size, Height, Width, Channel]\n",
    "        x = tf.reshape(x, shape=[-1, 256, 256, 3])\n",
    "        \n",
    "        l2s=0.001\n",
    "        \n",
    "        # Convolution Layer with 64 filters and a kernel size of 3\n",
    "        conv1 = tf.layers.conv2d(x, 64, 3, activation=tf.nn.relu, \n",
    "                                 kernel_regularizer= tf.contrib.layers.l2_regularizer(scale=l2s))\n",
    "\n",
    "        conv1 = tf.layers.conv2d(conv1, 64, 3, activation=tf.nn.relu, \n",
    "                                 kernel_regularizer= tf.contrib.layers.l2_regularizer(scale=l2s))\n",
    "\n",
    "        # Max Pooling (down-sampling) with strides of 2 and kernel size of 2\n",
    "        conv1 = tf.layers.max_pooling2d(conv1, 2, 2)\n",
    "        \n",
    "\n",
    "        # Convolution Layer with 128 filters and a kernel size of 3\n",
    "        conv2 = tf.layers.conv2d(conv1, 128, 3, activation=tf.nn.relu,\n",
    "                                 kernel_regularizer= tf.contrib.layers.l2_regularizer(scale=l2s))\n",
    "        conv2 = tf.layers.conv2d(conv2, 128, 3, activation=tf.nn.relu,\n",
    "                                 kernel_regularizer= tf.contrib.layers.l2_regularizer(scale=l2s))\n",
    "\n",
    "        # Max Pooling (down-sampling) with strides of 2 and kernel size of 2\n",
    "        conv2 = tf.layers.max_pooling2d(conv2, 2, 2)\n",
    "        \n",
    "        # Convolution Layer with 256 filters and a kernel size of 3\n",
    "        conv3 = tf.layers.conv2d(conv2, 256, 3, activation=tf.nn.relu,\n",
    "                                 kernel_regularizer= tf.contrib.layers.l2_regularizer(scale=l2s))\n",
    "        conv3 = tf.layers.conv2d(conv3, 256, 3, activation=tf.nn.relu,\n",
    "                                 kernel_regularizer= tf.contrib.layers.l2_regularizer(scale=l2s))\n",
    "\n",
    "        # Max Pooling (down-sampling) with strides of 2 and kernel size of 2\n",
    "        conv3 = tf.layers.max_pooling2d(conv3, 2, 2)\n",
    "        \n",
    "\n",
    "        # Flatten the data to a 1-D vector for the fully connected layer\n",
    "        fc1 = tf.contrib.layers.flatten(conv3)\n",
    "        \n",
    "        # Fully connected layer (in tf contrib folder for now)\n",
    "        fc1 = tf.layers.dense(fc1, 1024, activation=tf.nn.relu)\n",
    "        fc1 = tf.layers.dropout(fc1, rate=dropout, training=is_training)\n",
    "\n",
    "        \n",
    "        fc1 = tf.layers.dense(fc1, 1024, activation=tf.nn.relu)\n",
    "        fc1 = tf.layers.dropout(fc1, rate=dropout, training=is_training)\n",
    "        \n",
    "        fc1 = tf.layers.dense(fc1, 128, activation=tf.nn.relu)\n",
    "\n",
    "        out = tf.layers.dense(fc1, n_classes)\n",
    "\n",
    "    return out"
   ]
  },
  {
   "cell_type": "code",
   "execution_count": 13,
   "metadata": {
    "collapsed": true
   },
   "outputs": [],
   "source": [
    "# Define the model function (following TF Estimator Template)\n",
    "def model_fn(features, labels, mode):\n",
    "    \n",
    "    \n",
    "    #build CNN\n",
    "    logits_train = conv_net(features, num_classes, dropout, reuse=False, is_training=True)\n",
    "    logits_test = conv_net(features, num_classes, dropout, reuse=True, is_training=False)\n",
    "    \n",
    "    # Predictions\n",
    "    pred_classes = tf.argmax(logits_test, axis=1)\n",
    "    pred_probas = tf.nn.softmax(logits_test)\n",
    "    \n",
    "    # If prediction mode, early return\n",
    "    if mode == tf.estimator.ModeKeys.PREDICT:\n",
    "        return tf.estimator.EstimatorSpec(mode, predictions=pred_classes) \n",
    "    labels=tf.cast(labels, dtype=tf.int32)\n",
    "    \n",
    "    # Define loss (and +L2 loss) and optimizer \n",
    "    # We use ADAM optimizer \n",
    "    l2_loss = tf.losses.get_regularization_loss()\n",
    "    loss_op = tf.reduce_mean(tf.nn.sparse_softmax_cross_entropy_with_logits(\n",
    "        logits=logits_train, labels=tf.cast(labels, dtype=tf.int32))) + l2_loss\n",
    "    optimizer = tf.train.AdamOptimizer(learning_rate=learning_rate)\n",
    "    train_op = optimizer.minimize(loss_op, global_step=tf.train.get_global_step())\n",
    "    \n",
    "    # Evaluate the accuracy \n",
    "    acc_op = tf.metrics.accuracy(labels=labels, predictions=pred_classes)\n",
    "    \n",
    "    estim_specs = tf.estimator.EstimatorSpec(\n",
    "      mode=mode,\n",
    "      predictions=pred_classes,\n",
    "      loss=loss_op,\n",
    "      train_op=train_op,\n",
    "      eval_metric_ops={'accuracy': acc_op})\n",
    "\n",
    "    return estim_specs"
   ]
  },
  {
   "cell_type": "code",
   "execution_count": 14,
   "metadata": {},
   "outputs": [
    {
     "name": "stdout",
     "output_type": "stream",
     "text": [
      "INFO:tensorflow:Using default config.\n",
      "WARNING:tensorflow:Using temporary folder as model directory: /scratch/148096.1.onrcc-gpu-pub/tmpvxhwmi4e\n",
      "INFO:tensorflow:Using config: {'_model_dir': '/scratch/148096.1.onrcc-gpu-pub/tmpvxhwmi4e', '_tf_random_seed': None, '_save_summary_steps': 100, '_save_checkpoints_steps': None, '_save_checkpoints_secs': 600, '_session_config': None, '_keep_checkpoint_max': 5, '_keep_checkpoint_every_n_hours': 10000, '_log_step_count_steps': 100, '_train_distribute': None, '_service': None, '_cluster_spec': <tensorflow.python.training.server_lib.ClusterSpec object at 0x2b90ec82ceb8>, '_task_type': 'worker', '_task_id': 0, '_global_id_in_cluster': 0, '_master': '', '_evaluation_master': '', '_is_chief': True, '_num_ps_replicas': 0, '_num_worker_replicas': 1}\n"
     ]
    }
   ],
   "source": [
    "model = tf.estimator.Estimator(model_fn)"
   ]
  },
  {
   "cell_type": "markdown",
   "metadata": {},
   "source": [
    "## Train model "
   ]
  },
  {
   "cell_type": "code",
   "execution_count": 15,
   "metadata": {},
   "outputs": [
    {
     "name": "stdout",
     "output_type": "stream",
     "text": [
      "INFO:tensorflow:Calling model_fn.\n",
      "INFO:tensorflow:Done calling model_fn.\n",
      "INFO:tensorflow:Create CheckpointSaverHook.\n",
      "INFO:tensorflow:Graph was finalized.\n",
      "INFO:tensorflow:Running local_init_op.\n",
      "INFO:tensorflow:Done running local_init_op.\n",
      "INFO:tensorflow:Saving checkpoints for 1 into /scratch/148096.1.onrcc-gpu-pub/tmpvxhwmi4e/model.ckpt.\n",
      "INFO:tensorflow:loss = 12.994352, step = 0\n",
      "INFO:tensorflow:global_step/sec: 2.31527\n",
      "INFO:tensorflow:loss = 3.4508648, step = 100 (43.193 sec)\n",
      "INFO:tensorflow:global_step/sec: 2.3297\n",
      "INFO:tensorflow:loss = 3.446382, step = 200 (42.924 sec)\n",
      "INFO:tensorflow:global_step/sec: 2.33373\n",
      "INFO:tensorflow:loss = 3.1239676, step = 300 (42.850 sec)\n",
      "INFO:tensorflow:global_step/sec: 2.33608\n",
      "INFO:tensorflow:loss = 3.2094967, step = 400 (42.807 sec)\n",
      "INFO:tensorflow:global_step/sec: 2.33643\n",
      "INFO:tensorflow:loss = 2.5909784, step = 500 (42.800 sec)\n",
      "INFO:tensorflow:global_step/sec: 2.33766\n",
      "INFO:tensorflow:loss = 2.5793996, step = 600 (42.778 sec)\n",
      "INFO:tensorflow:global_step/sec: 2.33881\n",
      "INFO:tensorflow:loss = 3.1609752, step = 700 (42.756 sec)\n",
      "INFO:tensorflow:global_step/sec: 2.33898\n",
      "INFO:tensorflow:loss = 2.989489, step = 800 (42.754 sec)\n",
      "INFO:tensorflow:global_step/sec: 2.33969\n",
      "INFO:tensorflow:loss = 2.858654, step = 900 (42.741 sec)\n",
      "INFO:tensorflow:global_step/sec: 2.33992\n",
      "INFO:tensorflow:loss = 2.690353, step = 1000 (42.736 sec)\n",
      "INFO:tensorflow:global_step/sec: 2.32975\n",
      "INFO:tensorflow:loss = 2.507895, step = 1100 (42.923 sec)\n",
      "INFO:tensorflow:global_step/sec: 2.33144\n",
      "INFO:tensorflow:loss = 2.7307596, step = 1200 (42.892 sec)\n",
      "INFO:tensorflow:global_step/sec: 2.33245\n",
      "INFO:tensorflow:loss = 2.80523, step = 1300 (42.873 sec)\n",
      "INFO:tensorflow:Saving checkpoints for 1394 into /scratch/148096.1.onrcc-gpu-pub/tmpvxhwmi4e/model.ckpt.\n",
      "INFO:tensorflow:global_step/sec: 2.21517\n",
      "INFO:tensorflow:loss = 2.7215137, step = 1400 (45.143 sec)\n",
      "INFO:tensorflow:global_step/sec: 2.33615\n",
      "INFO:tensorflow:loss = 2.5957015, step = 1500 (42.806 sec)\n",
      "INFO:tensorflow:global_step/sec: 2.3336\n",
      "INFO:tensorflow:loss = 2.5647707, step = 1600 (42.852 sec)\n",
      "INFO:tensorflow:global_step/sec: 2.32988\n",
      "INFO:tensorflow:loss = 2.5428982, step = 1700 (42.921 sec)\n",
      "INFO:tensorflow:global_step/sec: 2.33021\n",
      "INFO:tensorflow:loss = 2.6635625, step = 1800 (42.915 sec)\n",
      "INFO:tensorflow:global_step/sec: 2.33234\n",
      "INFO:tensorflow:loss = 2.6221328, step = 1900 (42.875 sec)\n",
      "INFO:tensorflow:global_step/sec: 2.332\n",
      "INFO:tensorflow:loss = 2.7548082, step = 2000 (42.882 sec)\n",
      "INFO:tensorflow:global_step/sec: 2.32955\n",
      "INFO:tensorflow:loss = 2.8381262, step = 2100 (42.927 sec)\n",
      "INFO:tensorflow:global_step/sec: 2.33536\n",
      "INFO:tensorflow:loss = 2.4547846, step = 2200 (42.820 sec)\n",
      "INFO:tensorflow:global_step/sec: 2.34099\n",
      "INFO:tensorflow:loss = 2.507577, step = 2300 (42.717 sec)\n",
      "INFO:tensorflow:global_step/sec: 2.34168\n",
      "INFO:tensorflow:loss = 2.5293438, step = 2400 (42.705 sec)\n",
      "INFO:tensorflow:global_step/sec: 2.33548\n",
      "INFO:tensorflow:loss = 2.602765, step = 2500 (42.817 sec)\n",
      "INFO:tensorflow:global_step/sec: 2.33328\n",
      "INFO:tensorflow:loss = 2.2648444, step = 2600 (42.858 sec)\n",
      "INFO:tensorflow:global_step/sec: 2.33448\n",
      "INFO:tensorflow:loss = 2.680639, step = 2700 (42.836 sec)\n",
      "INFO:tensorflow:Saving checkpoints for 2790 into /scratch/148096.1.onrcc-gpu-pub/tmpvxhwmi4e/model.ckpt.\n",
      "INFO:tensorflow:global_step/sec: 2.21122\n",
      "INFO:tensorflow:loss = 2.998151, step = 2800 (45.224 sec)\n",
      "INFO:tensorflow:global_step/sec: 2.33207\n",
      "INFO:tensorflow:loss = 2.5746891, step = 2900 (42.880 sec)\n",
      "INFO:tensorflow:global_step/sec: 2.33142\n",
      "INFO:tensorflow:loss = 1.9619063, step = 3000 (42.893 sec)\n",
      "INFO:tensorflow:global_step/sec: 2.33383\n",
      "INFO:tensorflow:loss = 2.724301, step = 3100 (42.848 sec)\n",
      "INFO:tensorflow:global_step/sec: 2.33414\n",
      "INFO:tensorflow:loss = 2.3093615, step = 3200 (42.842 sec)\n",
      "INFO:tensorflow:global_step/sec: 2.33534\n",
      "INFO:tensorflow:loss = 2.8894143, step = 3300 (42.821 sec)\n",
      "INFO:tensorflow:global_step/sec: 2.33783\n",
      "INFO:tensorflow:loss = 2.3442643, step = 3400 (42.774 sec)\n",
      "INFO:tensorflow:global_step/sec: 2.33258\n",
      "INFO:tensorflow:loss = 2.4934456, step = 3500 (42.871 sec)\n",
      "INFO:tensorflow:global_step/sec: 2.33404\n",
      "INFO:tensorflow:loss = 2.3238492, step = 3600 (42.844 sec)\n",
      "INFO:tensorflow:global_step/sec: 2.33347\n",
      "INFO:tensorflow:loss = 2.4741018, step = 3700 (42.854 sec)\n",
      "INFO:tensorflow:global_step/sec: 2.33496\n",
      "INFO:tensorflow:loss = 2.3199644, step = 3800 (42.828 sec)\n",
      "INFO:tensorflow:global_step/sec: 2.33375\n",
      "INFO:tensorflow:loss = 1.9875728, step = 3900 (42.850 sec)\n",
      "INFO:tensorflow:global_step/sec: 2.33309\n",
      "INFO:tensorflow:loss = 2.2444856, step = 4000 (42.861 sec)\n",
      "INFO:tensorflow:global_step/sec: 2.33427\n",
      "INFO:tensorflow:loss = 2.0452836, step = 4100 (42.840 sec)\n",
      "INFO:tensorflow:Saving checkpoints for 4185 into /scratch/148096.1.onrcc-gpu-pub/tmpvxhwmi4e/model.ckpt.\n",
      "INFO:tensorflow:global_step/sec: 2.21558\n",
      "INFO:tensorflow:loss = 1.9519918, step = 4200 (45.135 sec)\n",
      "INFO:tensorflow:global_step/sec: 2.33485\n",
      "INFO:tensorflow:loss = 1.9039944, step = 4300 (42.829 sec)\n",
      "INFO:tensorflow:global_step/sec: 2.33528\n",
      "INFO:tensorflow:loss = 2.3957834, step = 4400 (42.822 sec)\n",
      "INFO:tensorflow:global_step/sec: 2.33642\n",
      "INFO:tensorflow:loss = 1.9827032, step = 4500 (42.801 sec)\n",
      "INFO:tensorflow:global_step/sec: 2.33591\n",
      "INFO:tensorflow:loss = 2.0843415, step = 4600 (42.810 sec)\n",
      "INFO:tensorflow:global_step/sec: 2.33624\n",
      "INFO:tensorflow:loss = 2.3380554, step = 4700 (42.804 sec)\n",
      "INFO:tensorflow:global_step/sec: 2.33632\n",
      "INFO:tensorflow:loss = 2.2651799, step = 4800 (42.803 sec)\n",
      "INFO:tensorflow:global_step/sec: 2.33527\n",
      "INFO:tensorflow:loss = 1.6616379, step = 4900 (42.821 sec)\n",
      "INFO:tensorflow:global_step/sec: 2.33539\n",
      "INFO:tensorflow:loss = 1.9639812, step = 5000 (42.820 sec)\n",
      "INFO:tensorflow:global_step/sec: 2.33336\n",
      "INFO:tensorflow:loss = 2.1270657, step = 5100 (42.856 sec)\n",
      "INFO:tensorflow:global_step/sec: 2.33386\n",
      "INFO:tensorflow:loss = 1.7459809, step = 5200 (42.847 sec)\n",
      "INFO:tensorflow:global_step/sec: 2.33346\n",
      "INFO:tensorflow:loss = 1.9343333, step = 5300 (42.855 sec)\n",
      "INFO:tensorflow:global_step/sec: 2.33361\n",
      "INFO:tensorflow:loss = 1.9112324, step = 5400 (42.852 sec)\n",
      "INFO:tensorflow:global_step/sec: 2.33088\n",
      "INFO:tensorflow:loss = 2.1286068, step = 5500 (42.902 sec)\n",
      "INFO:tensorflow:Saving checkpoints for 5581 into /scratch/148096.1.onrcc-gpu-pub/tmpvxhwmi4e/model.ckpt.\n",
      "INFO:tensorflow:global_step/sec: 2.19811\n",
      "INFO:tensorflow:loss = 1.8104732, step = 5600 (45.494 sec)\n",
      "INFO:tensorflow:global_step/sec: 2.33123\n",
      "INFO:tensorflow:loss = 2.0734997, step = 5700 (42.896 sec)\n",
      "INFO:tensorflow:global_step/sec: 2.33177\n",
      "INFO:tensorflow:loss = 1.4243653, step = 5800 (42.886 sec)\n",
      "INFO:tensorflow:global_step/sec: 2.33402\n",
      "INFO:tensorflow:loss = 1.7855241, step = 5900 (42.845 sec)\n",
      "INFO:tensorflow:global_step/sec: 2.3321\n",
      "INFO:tensorflow:loss = 1.3288492, step = 6000 (42.880 sec)\n",
      "INFO:tensorflow:global_step/sec: 2.33466\n",
      "INFO:tensorflow:loss = 1.2099218, step = 6100 (42.832 sec)\n",
      "INFO:tensorflow:global_step/sec: 2.33322\n",
      "INFO:tensorflow:loss = 1.2583426, step = 6200 (42.859 sec)\n",
      "INFO:tensorflow:global_step/sec: 2.33394\n",
      "INFO:tensorflow:loss = 1.4251131, step = 6300 (42.846 sec)\n",
      "INFO:tensorflow:global_step/sec: 2.33295\n",
      "INFO:tensorflow:loss = 1.3936149, step = 6400 (42.864 sec)\n",
      "INFO:tensorflow:global_step/sec: 2.33328\n",
      "INFO:tensorflow:loss = 1.1511722, step = 6500 (42.858 sec)\n",
      "INFO:tensorflow:global_step/sec: 2.33394\n",
      "INFO:tensorflow:loss = 1.455152, step = 6600 (42.846 sec)\n",
      "INFO:tensorflow:global_step/sec: 2.3333\n",
      "INFO:tensorflow:loss = 1.2713487, step = 6700 (42.858 sec)\n",
      "INFO:tensorflow:global_step/sec: 2.3326\n",
      "INFO:tensorflow:loss = 1.3361677, step = 6800 (42.871 sec)\n",
      "INFO:tensorflow:global_step/sec: 2.33395\n",
      "INFO:tensorflow:loss = 1.0818497, step = 6900 (42.846 sec)\n",
      "INFO:tensorflow:Saving checkpoints for 6975 into /scratch/148096.1.onrcc-gpu-pub/tmpvxhwmi4e/model.ckpt.\n",
      "INFO:tensorflow:global_step/sec: 2.198\n",
      "INFO:tensorflow:loss = 1.2450917, step = 7000 (45.496 sec)\n",
      "INFO:tensorflow:global_step/sec: 2.33366\n",
      "INFO:tensorflow:loss = 0.9113002, step = 7100 (42.851 sec)\n",
      "INFO:tensorflow:global_step/sec: 2.33598\n",
      "INFO:tensorflow:loss = 1.0801545, step = 7200 (42.809 sec)\n",
      "INFO:tensorflow:global_step/sec: 2.33434\n",
      "INFO:tensorflow:loss = 0.8506626, step = 7300 (42.839 sec)\n",
      "INFO:tensorflow:global_step/sec: 2.3335\n"
     ]
    },
    {
     "name": "stdout",
     "output_type": "stream",
     "text": [
      "INFO:tensorflow:loss = 1.3274975, step = 7400 (42.854 sec)\n",
      "INFO:tensorflow:global_step/sec: 2.33338\n",
      "INFO:tensorflow:loss = 0.98216796, step = 7500 (42.857 sec)\n",
      "INFO:tensorflow:global_step/sec: 2.33362\n",
      "INFO:tensorflow:loss = 0.8233269, step = 7600 (42.852 sec)\n",
      "INFO:tensorflow:global_step/sec: 2.33443\n",
      "INFO:tensorflow:loss = 0.79652894, step = 7700 (42.837 sec)\n",
      "INFO:tensorflow:global_step/sec: 2.33472\n",
      "INFO:tensorflow:loss = 1.029584, step = 7800 (42.832 sec)\n",
      "INFO:tensorflow:global_step/sec: 2.33358\n",
      "INFO:tensorflow:loss = 0.9508524, step = 7900 (42.852 sec)\n",
      "INFO:tensorflow:global_step/sec: 2.33337\n",
      "INFO:tensorflow:loss = 1.0163233, step = 8000 (42.856 sec)\n",
      "INFO:tensorflow:global_step/sec: 2.3328\n",
      "INFO:tensorflow:loss = 0.6108816, step = 8100 (42.867 sec)\n",
      "INFO:tensorflow:global_step/sec: 2.33309\n",
      "INFO:tensorflow:loss = 0.68005174, step = 8200 (42.861 sec)\n",
      "INFO:tensorflow:global_step/sec: 2.33187\n",
      "INFO:tensorflow:loss = 1.0119952, step = 8300 (42.884 sec)\n",
      "INFO:tensorflow:Saving checkpoints for 8370 into /scratch/148096.1.onrcc-gpu-pub/tmpvxhwmi4e/model.ckpt.\n",
      "INFO:tensorflow:global_step/sec: 2.20136\n",
      "INFO:tensorflow:loss = 0.8079564, step = 8400 (45.427 sec)\n",
      "INFO:tensorflow:global_step/sec: 2.33339\n",
      "INFO:tensorflow:loss = 0.8693057, step = 8500 (42.856 sec)\n",
      "INFO:tensorflow:global_step/sec: 2.33514\n",
      "INFO:tensorflow:loss = 0.8976351, step = 8600 (42.824 sec)\n",
      "INFO:tensorflow:global_step/sec: 2.33524\n",
      "INFO:tensorflow:loss = 0.7179235, step = 8700 (42.822 sec)\n",
      "INFO:tensorflow:global_step/sec: 2.3353\n",
      "INFO:tensorflow:loss = 0.6637739, step = 8800 (42.821 sec)\n",
      "INFO:tensorflow:global_step/sec: 2.3328\n",
      "INFO:tensorflow:loss = 0.51219964, step = 8900 (42.867 sec)\n",
      "INFO:tensorflow:global_step/sec: 2.33669\n",
      "INFO:tensorflow:loss = 0.63045704, step = 9000 (42.796 sec)\n",
      "INFO:tensorflow:global_step/sec: 2.33523\n",
      "INFO:tensorflow:loss = 0.54276806, step = 9100 (42.822 sec)\n",
      "INFO:tensorflow:global_step/sec: 2.33623\n",
      "INFO:tensorflow:loss = 0.8451243, step = 9200 (42.804 sec)\n",
      "INFO:tensorflow:global_step/sec: 2.3323\n",
      "INFO:tensorflow:loss = 0.8236064, step = 9300 (42.876 sec)\n",
      "INFO:tensorflow:global_step/sec: 2.33685\n",
      "INFO:tensorflow:loss = 0.7818718, step = 9400 (42.792 sec)\n",
      "INFO:tensorflow:global_step/sec: 2.33596\n",
      "INFO:tensorflow:loss = 0.8042015, step = 9500 (42.809 sec)\n",
      "INFO:tensorflow:global_step/sec: 2.33729\n",
      "INFO:tensorflow:loss = 0.6878733, step = 9600 (42.785 sec)\n",
      "INFO:tensorflow:global_step/sec: 2.33674\n",
      "INFO:tensorflow:loss = 0.7870694, step = 9700 (42.795 sec)\n",
      "INFO:tensorflow:Saving checkpoints for 9766 into /scratch/148096.1.onrcc-gpu-pub/tmpvxhwmi4e/model.ckpt.\n",
      "INFO:tensorflow:global_step/sec: 2.20136\n",
      "INFO:tensorflow:loss = 0.60343486, step = 9800 (45.426 sec)\n",
      "INFO:tensorflow:global_step/sec: 2.33095\n",
      "INFO:tensorflow:loss = 0.47149366, step = 9900 (42.901 sec)\n",
      "INFO:tensorflow:global_step/sec: 2.33321\n",
      "INFO:tensorflow:loss = 0.632535, step = 10000 (42.859 sec)\n",
      "INFO:tensorflow:global_step/sec: 2.33198\n",
      "INFO:tensorflow:loss = 0.49857455, step = 10100 (42.882 sec)\n",
      "INFO:tensorflow:global_step/sec: 2.33403\n",
      "INFO:tensorflow:loss = 0.6857637, step = 10200 (42.844 sec)\n",
      "INFO:tensorflow:global_step/sec: 2.33514\n",
      "INFO:tensorflow:loss = 0.44229275, step = 10300 (42.824 sec)\n",
      "INFO:tensorflow:global_step/sec: 2.33589\n",
      "INFO:tensorflow:loss = 0.5408101, step = 10400 (42.810 sec)\n",
      "INFO:tensorflow:global_step/sec: 2.33593\n",
      "INFO:tensorflow:loss = 0.5648284, step = 10500 (42.810 sec)\n",
      "INFO:tensorflow:global_step/sec: 2.33609\n",
      "INFO:tensorflow:loss = 0.4343058, step = 10600 (42.806 sec)\n",
      "INFO:tensorflow:global_step/sec: 2.33641\n",
      "INFO:tensorflow:loss = 0.4639839, step = 10700 (42.801 sec)\n",
      "INFO:tensorflow:global_step/sec: 2.33421\n",
      "INFO:tensorflow:loss = 0.5026018, step = 10800 (42.841 sec)\n",
      "INFO:tensorflow:global_step/sec: 2.33378\n",
      "INFO:tensorflow:loss = 0.5056349, step = 10900 (42.849 sec)\n",
      "INFO:tensorflow:global_step/sec: 2.33497\n",
      "INFO:tensorflow:loss = 0.7243111, step = 11000 (42.827 sec)\n",
      "INFO:tensorflow:global_step/sec: 2.33397\n",
      "INFO:tensorflow:loss = 0.7170793, step = 11100 (42.846 sec)\n",
      "INFO:tensorflow:Saving checkpoints for 11161 into /scratch/148096.1.onrcc-gpu-pub/tmpvxhwmi4e/model.ckpt.\n",
      "INFO:tensorflow:global_step/sec: 2.2006\n",
      "INFO:tensorflow:loss = 0.79013294, step = 11200 (45.442 sec)\n",
      "INFO:tensorflow:global_step/sec: 2.33113\n",
      "INFO:tensorflow:loss = 0.28140837, step = 11300 (42.898 sec)\n",
      "INFO:tensorflow:global_step/sec: 2.33201\n",
      "INFO:tensorflow:loss = 0.44809508, step = 11400 (42.882 sec)\n",
      "INFO:tensorflow:global_step/sec: 2.32862\n",
      "INFO:tensorflow:loss = 0.5490887, step = 11500 (42.944 sec)\n",
      "INFO:tensorflow:global_step/sec: 2.3294\n",
      "INFO:tensorflow:loss = 0.65923667, step = 11600 (42.930 sec)\n",
      "INFO:tensorflow:global_step/sec: 2.32908\n",
      "INFO:tensorflow:loss = 0.23947814, step = 11700 (42.935 sec)\n",
      "INFO:tensorflow:global_step/sec: 2.33225\n",
      "INFO:tensorflow:loss = 0.31535107, step = 11800 (42.877 sec)\n",
      "INFO:tensorflow:global_step/sec: 2.33093\n",
      "INFO:tensorflow:loss = 0.5405556, step = 11900 (42.901 sec)\n",
      "INFO:tensorflow:global_step/sec: 2.33281\n",
      "INFO:tensorflow:loss = 0.372987, step = 12000 (42.867 sec)\n",
      "INFO:tensorflow:global_step/sec: 2.33163\n",
      "INFO:tensorflow:loss = 0.5890011, step = 12100 (42.888 sec)\n",
      "INFO:tensorflow:global_step/sec: 2.33453\n",
      "INFO:tensorflow:loss = 0.56347346, step = 12200 (42.836 sec)\n",
      "INFO:tensorflow:global_step/sec: 2.33172\n",
      "INFO:tensorflow:loss = 0.6884362, step = 12300 (42.887 sec)\n",
      "INFO:tensorflow:global_step/sec: 2.33028\n",
      "INFO:tensorflow:loss = 0.44097948, step = 12400 (42.913 sec)\n",
      "INFO:tensorflow:global_step/sec: 2.33063\n",
      "INFO:tensorflow:loss = 0.4870772, step = 12500 (42.907 sec)\n",
      "INFO:tensorflow:Saving checkpoints for 12554 into /scratch/148096.1.onrcc-gpu-pub/tmpvxhwmi4e/model.ckpt.\n",
      "INFO:tensorflow:global_step/sec: 2.19893\n",
      "INFO:tensorflow:loss = 0.27847883, step = 12600 (45.477 sec)\n",
      "INFO:tensorflow:Saving checkpoints for 12700 into /scratch/148096.1.onrcc-gpu-pub/tmpvxhwmi4e/model.ckpt.\n",
      "INFO:tensorflow:Loss for final step: 0.46337408.\n"
     ]
    },
    {
     "data": {
      "text/plain": [
       "<tensorflow.python.estimator.estimator.Estimator at 0x2b90ec85c9b0>"
      ]
     },
     "execution_count": 15,
     "metadata": {},
     "output_type": "execute_result"
    }
   ],
   "source": [
    "# Define the input function for training\n",
    "input_fn = tf.estimator.inputs.numpy_input_fn(\n",
    "    x={'images': X_train}, y=Y_train,\n",
    "    #x={'images': mnist.train.images}, y=mnist.train.labels,\n",
    "    batch_size=batch_size, num_epochs=None, shuffle=True)\n",
    "# Train the Model\n",
    "model.train(input_fn, steps=num_steps)"
   ]
  },
  {
   "cell_type": "markdown",
   "metadata": {},
   "source": [
    "We use 4 CPU cores and 1 GPU. It takes about 40 seconds for 100 steps (100 batches). "
   ]
  },
  {
   "cell_type": "code",
   "execution_count": 17,
   "metadata": {},
   "outputs": [
    {
     "name": "stdout",
     "output_type": "stream",
     "text": [
      "INFO:tensorflow:Calling model_fn.\n",
      "INFO:tensorflow:Done calling model_fn.\n",
      "INFO:tensorflow:Starting evaluation at 2018-12-16-23:27:24\n",
      "INFO:tensorflow:Graph was finalized.\n",
      "INFO:tensorflow:Restoring parameters from /scratch/148096.1.onrcc-gpu-pub/tmpvxhwmi4e/model.ckpt-12700\n",
      "INFO:tensorflow:Running local_init_op.\n",
      "INFO:tensorflow:Done running local_init_op.\n",
      "INFO:tensorflow:Finished evaluation at 2018-12-16-23:30:40\n",
      "INFO:tensorflow:Saving dict for global step 12700: accuracy = 0.9619488, global_step = 12700, loss = 0.65880543\n"
     ]
    },
    {
     "data": {
      "text/plain": [
       "{'accuracy': 0.9619488, 'global_step': 12700, 'loss': 0.65880543}"
      ]
     },
     "execution_count": 17,
     "metadata": {},
     "output_type": "execute_result"
    }
   ],
   "source": [
    "input_fn = tf.estimator.inputs.numpy_input_fn(\n",
    "    x={'images': X_train}, y=Y_train,\n",
    "    batch_size=batch_size, shuffle=False)\n",
    "# Test the Model using validation dataset\n",
    "model.evaluate(input_fn)"
   ]
  },
  {
   "cell_type": "code",
   "execution_count": 87,
   "metadata": {
    "collapsed": true
   },
   "outputs": [],
   "source": [
    "from analysis import *"
   ]
  },
  {
   "cell_type": "code",
   "execution_count": 19,
   "metadata": {},
   "outputs": [
    {
     "name": "stdout",
     "output_type": "stream",
     "text": [
      "INFO:tensorflow:Calling model_fn.\n",
      "INFO:tensorflow:Done calling model_fn.\n",
      "INFO:tensorflow:Graph was finalized.\n",
      "INFO:tensorflow:Restoring parameters from /scratch/148096.1.onrcc-gpu-pub/tmpvxhwmi4e/model.ckpt-12700\n",
      "INFO:tensorflow:Running local_init_op.\n",
      "INFO:tensorflow:Done running local_init_op.\n"
     ]
    }
   ],
   "source": [
    "input_fn = tf.estimator.inputs.numpy_input_fn(\n",
    "    x={'images': X_train}, shuffle=False)\n",
    "# Use the model to predict the images class\n",
    "preds = list(model.predict(input_fn))\n"
   ]
  },
  {
   "cell_type": "code",
   "execution_count": 89,
   "metadata": {},
   "outputs": [
    {
     "data": {
      "text/plain": [
       "<matplotlib.figure.Figure at 0x2b910641a978>"
      ]
     },
     "metadata": {},
     "output_type": "display_data"
    },
    {
     "data": {
      "image/png": "[encoded data removed]",
      "text/plain": [
       "<matplotlib.figure.Figure at 0x2b9243a528d0>"
      ]
     },
     "metadata": {},
     "output_type": "display_data"
    }
   ],
   "source": [
    "plot_confusion_matrix(preds, Y_train, 12, 10)"
   ]
  },
  {
   "cell_type": "code",
   "execution_count": null,
   "metadata": {
    "collapsed": true
   },
   "outputs": [],
   "source": []
  }
 ],
 "metadata": {
  "kernelspec": {
   "display_name": "Python 3",
   "language": "python",
   "name": "python3"
  },
  "language_info": {
   "codemirror_mode": {
    "name": "ipython",
    "version": 3
   },
   "file_extension": ".py",
   "mimetype": "text/x-python",
   "name": "python",
   "nbconvert_exporter": "python",
   "pygments_lexer": "ipython3",
   "version": "3.6.1"
  }
 },
 "nbformat": 4,
 "nbformat_minor": 2
}
